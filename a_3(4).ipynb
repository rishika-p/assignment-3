{
  "nbformat": 4,
  "nbformat_minor": 0,
  "metadata": {
    "colab": {
      "name": "a-3(4).ipynb",
      "provenance": [],
      "authorship_tag": "ABX9TyO2MRApJN88hg915Ic8fGUQ",
      "include_colab_link": true
    },
    "kernelspec": {
      "name": "python3",
      "display_name": "Python 3"
    }
  },
  "cells": [
    {
      "cell_type": "markdown",
      "metadata": {
        "id": "view-in-github",
        "colab_type": "text"
      },
      "source": [
        "<a href=\"https://colab.research.google.com/github/rishika-p/assignment-3/blob/master/a_3(4).ipynb\" target=\"_parent\"><img src=\"https://colab.research.google.com/assets/colab-badge.svg\" alt=\"Open In Colab\"/></a>"
      ]
    },
    {
      "cell_type": "code",
      "metadata": {
        "id": "N-8kvn_Ybzor",
        "colab_type": "code",
        "colab": {
          "base_uri": "https://localhost:8080/",
          "height": 34
        },
        "outputId": "73400652-3d26-4314-8da3-91d506ea9c02"
      },
      "source": [
        "import numpy as np\n",
        "import numpy.linalg as nl\n",
        "array=np.array([[1,2],[3,4]])\n",
        "x=nl.cond(array)\n",
        "print(x)"
      ],
      "execution_count": 2,
      "outputs": [
        {
          "output_type": "stream",
          "text": [
            "14.933034373659268\n"
          ],
          "name": "stdout"
        }
      ]
    }
  ]
}