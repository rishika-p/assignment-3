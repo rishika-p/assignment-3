{
  "nbformat": 4,
  "nbformat_minor": 0,
  "metadata": {
    "colab": {
      "name": "a-3(3).ipynb",
      "provenance": [],
      "authorship_tag": "ABX9TyM6RKDmvrLSOhfFI+sMbGxm",
      "include_colab_link": true
    },
    "kernelspec": {
      "name": "python3",
      "display_name": "Python 3"
    }
  },
  "cells": [
    {
      "cell_type": "markdown",
      "metadata": {
        "id": "view-in-github",
        "colab_type": "text"
      },
      "source": [
        "<a href=\"https://colab.research.google.com/github/rishika-p/assignment-3/blob/master/a_3(3).ipynb\" target=\"_parent\"><img src=\"https://colab.research.google.com/assets/colab-badge.svg\" alt=\"Open In Colab\"/></a>"
      ]
    },
    {
      "cell_type": "code",
      "metadata": {
        "id": "jgdKEzcsXeBJ",
        "colab_type": "code",
        "colab": {
          "base_uri": "https://localhost:8080/",
          "height": 151
        },
        "outputId": "bd7e2b3f-11de-4564-d5ef-ab67c55bd4e6"
      },
      "source": [
        "import numpy as np\n",
        "a=np.array([[1,0],[0,1]])\n",
        "b=np.array([[1, 2], [3, 4]])\n",
        "print(\"Original matrix : \")\n",
        "print(p)\n",
        "print(q)\n",
        "print(\"Outer product:\")\n",
        "result=np.outer(p,q)\n",
        "print(result)"
      ],
      "execution_count": 5,
      "outputs": [
        {
          "output_type": "stream",
          "text": [
            "Original matrix : \n",
            "[[1, 0], [0, 1]]\n",
            "[[1, 2], [3, 4]]\n",
            "Outer product:\n",
            "[[1 2 3 4]\n",
            " [0 0 0 0]\n",
            " [0 0 0 0]\n",
            " [1 2 3 4]]\n"
          ],
          "name": "stdout"
        }
      ]
    }
  ]
}